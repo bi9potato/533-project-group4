{
 "cells": [
  {
   "cell_type": "code",
   "execution_count": 1,
   "metadata": {},
   "outputs": [
    {
     "name": "stdout",
     "output_type": "stream",
     "text": [
      "\t\t\t    menu\n",
      "\t\t\t 1. login \n",
      "                    \t 2. signup  \n",
      "                    \t 3. exit\n",
      "Login success!\n",
      "\t\t\t    Welcome admin! You are managing Amazon!\n",
      "\t\t\t 1. View all jobs\n",
      "\t\t\t 2. Add new job \n",
      "\t\t\t 3. Modify job\n",
      "\t\t\t 4. delere job\n",
      "\t\t\t 5. View all applicant accounts\n",
      "\t\t\t 6. Process applicants (accept/ reject/ put on waitlist)\n",
      "\t\t\t 7. process waitlist\n",
      "\t\t\t 8. Rate\n",
      "\t\t\t 9. Applicant score ranking (from highest to lowest)\n",
      "\t\t\t 10. View acceptance list\n",
      "\t\t\t 11. exit\n",
      "\n",
      "job name\tremaining\t type\t\t date\n",
      "ajob1 \t\t 2 \t\t type 1 \t 2022-10-10\n",
      "ajob2 \t\t 1 \t\t type 2 \t 2022-10-11\n",
      "ajob3 \t\t 0 \t\t type 3 \t 2022-10-12\n",
      "ajob4 \t\t 4 \t\t type 1 \t 2022-10-12\n",
      "\n",
      "admin log out\n",
      "\t\t\t    menu\n",
      "\t\t\t 1. login \n",
      "                    \t 2. signup  \n",
      "                    \t 3. exit\n",
      "exit system!\n"
     ]
    }
   ],
   "source": [
    "from RecruitmentSystem.sub_system.menu import menu as m\n",
    "\n",
    "menu = m()\n",
    "menu.start()\n"
   ]
  }
 ],
 "metadata": {
  "kernelspec": {
   "display_name": "Python 3.9.12 ('base')",
   "language": "python",
   "name": "python3"
  },
  "language_info": {
   "codemirror_mode": {
    "name": "ipython",
    "version": 3
   },
   "file_extension": ".py",
   "mimetype": "text/x-python",
   "name": "python",
   "nbconvert_exporter": "python",
   "pygments_lexer": "ipython3",
   "version": "3.9.12"
  },
  "orig_nbformat": 4,
  "vscode": {
   "interpreter": {
    "hash": "9d50d3a74565e79c0ca7228c88e72be098c8ceb6c02f40dad4b8ac2d352f39de"
   }
  }
 },
 "nbformat": 4,
 "nbformat_minor": 2
}
