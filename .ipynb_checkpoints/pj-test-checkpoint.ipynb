{
 "cells": [
  {
   "cell_type": "markdown",
   "metadata": {},
   "source": [
    "Since our package is basically interactive, and all the functions in other modules can be invoked by menu.start, we suggest that you start here to try our system.  \n",
    "\n",
    "You are welcome to start with login using the setted user such as admin-user:account:Admin1,password:1 or jobseeker-user:account:j1,password:1 to go through the whole process in our system."
   ]
  },
  {
   "cell_type": "code",
   "execution_count": null,
   "metadata": {},
   "outputs": [],
   "source": [
    "from RecruitmentSystem.sub_system.menu import menu as m\n",
    "\n",
    "menu = m()\n",
    "menu.start()\n"
   ]
  }
 ],
 "metadata": {
  "kernelspec": {
   "display_name": "Python 3 (ipykernel)",
   "language": "python",
   "name": "python3"
  },
  "language_info": {
   "codemirror_mode": {
    "name": "ipython",
    "version": 3
   },
   "file_extension": ".py",
   "mimetype": "text/x-python",
   "name": "python",
   "nbconvert_exporter": "python",
   "pygments_lexer": "ipython3",
   "version": "3.9.12"
  },
  "vscode": {
   "interpreter": {
    "hash": "9d50d3a74565e79c0ca7228c88e72be098c8ceb6c02f40dad4b8ac2d352f39de"
   }
  }
 },
 "nbformat": 4,
 "nbformat_minor": 4
}
