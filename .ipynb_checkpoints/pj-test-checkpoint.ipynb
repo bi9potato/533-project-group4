{
 "cells": [
  {
   "cell_type": "code",
   "execution_count": 1,
   "metadata": {},
   "outputs": [
    {
     "name": "stdout",
     "output_type": "stream",
     "text": [
      "\t\t\t    menu\n",
      "\t\t\t 1. login \n",
      "                    \t 2. signup  \n",
      "                    \t 3. exit\n",
      "Please enter the serial number: 1\n",
      "Enter number 1 for job seeker login, number 2 for admin login, number 3 to exit: 1\n",
      "Enter your account: j2\n",
      "Enter your password: 2\n",
      "Login success!\n",
      "\t\t\t    Welcome job seeker!\n",
      "\t\t\t 1. Search for companies and jobs\n",
      "\t\t\t 2. Apply \n",
      "\t\t\t 3. Check status (Accepted/ Rejected/ Put into waitlist)\n",
      "Enter 1 to search, 2 to apply, 3 to check status, 4 to exit: 1\n",
      "\n",
      "name of company: \n",
      "Google\n",
      "Amazon\n",
      "\n",
      "Enter the name of the company you want to view: Amazon\n",
      "\n",
      "job name\tremaining\t type\t\t date\n",
      "ajob1 \t\t 2 \t\t type 1 \t 2022-10-10\n",
      "ajob2 \t\t 1 \t\t type 2 \t 2022-10-11\n",
      "ajob3 \t\t 0 \t\t type 3 \t 2022-10-12\n",
      "ajob4 \t\t 4 \t\t type 1 \t 2022-10-12\n",
      "\n",
      "Enter 1 to search job in Amazon by name, 2 by type ,3 by date, 4 to exit: 6\n",
      "no such serial number, plz re-enter\n",
      "Enter 1 to search job in Amazon by name, 2 by type ,3 by date, 4 to exit: 1\n",
      "Enter job name: ajob4\n",
      "\n",
      "job name\tremaining\t type\t\t date\n",
      "ajob4 \t\t 4 \t\t type 1 \t 2022-10-12\n",
      "Enter 1 to search job in Amazon by name, 2 by type ,3 by date, 4 to exit: 4\n",
      "exit search!\n",
      "Enter 1 to search, 2 to apply, 3 to check status, 4 to exit: 4\n",
      "logout!\n",
      "\t\t\t    menu\n",
      "\t\t\t 1. login \n",
      "                    \t 2. signup  \n",
      "                    \t 3. exit\n",
      "Please enter the serial number: 3\n",
      "exit system!\n"
     ]
    }
   ],
   "source": [
    "from RecruitmentSystem.sub_system.menu import menu as m\n",
    "\n",
    "menu = m()\n",
    "menu.start()\n"
   ]
  },
  {
   "cell_type": "code",
   "execution_count": null,
   "metadata": {},
   "outputs": [],
   "source": []
  }
 ],
 "metadata": {
  "kernelspec": {
   "display_name": "Python 3 (ipykernel)",
   "language": "python",
   "name": "python3"
  },
  "language_info": {
   "codemirror_mode": {
    "name": "ipython",
    "version": 3
   },
   "file_extension": ".py",
   "mimetype": "text/x-python",
   "name": "python",
   "nbconvert_exporter": "python",
   "pygments_lexer": "ipython3",
   "version": "3.9.12"
  },
  "vscode": {
   "interpreter": {
    "hash": "9d50d3a74565e79c0ca7228c88e72be098c8ceb6c02f40dad4b8ac2d352f39de"
   }
  }
 },
 "nbformat": 4,
 "nbformat_minor": 2
}
